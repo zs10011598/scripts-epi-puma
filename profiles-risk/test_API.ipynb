{
 "cells": [
  {
   "cell_type": "code",
   "execution_count": 1,
   "metadata": {},
   "outputs": [],
   "source": [
    "import pandas as pd \n",
    "import requests\n",
    "import json\n",
    "import datetime as dt"
   ]
  },
  {
   "cell_type": "code",
   "execution_count": 2,
   "metadata": {},
   "outputs": [],
   "source": [
    "target_clases = ['CONFIRMADO', 'HOSPITALIZADO', 'NEUMONIA', 'INTUBADO', 'FALLECIDO']"
   ]
  },
  {
   "cell_type": "code",
   "execution_count": null,
   "metadata": {},
   "outputs": [],
   "source": [
    "url = 'http://127.0.0.1:8000/api/dge/covariables/'\n",
    "body = json.loads(\"\"\"\n",
    "    {\n",
    "        \"target\": \"FALLECIDO\",\n",
    "        \"initial_date\": \"2020-02-01\",\n",
    "        \"period\": 90\n",
    "    }\n",
    "\"\"\")\n",
    "\n",
    "for target in target_clases[1:2]:\n",
    "    body['target'] = target\n",
    "    response = requests.post(url, json=body).json()\n",
    "    print('<<<====================Start======================>>>')\n",
    "    print(\"URL {0}\".format(url))\n",
    "    print(\"Body {0}\".format(json.dumps(body)))\n",
    "    print(\"Response {0}\".format(json.dumps(response)))\n",
    "    #df = pd.DataFrame(response)\n",
    "    print('<<<=====================End=======================>>>')"
   ]
  },
  {
   "cell_type": "code",
   "execution_count": null,
   "metadata": {},
   "outputs": [],
   "source": [
    "df.columns"
   ]
  }
 ],
 "metadata": {
  "kernelspec": {
   "display_name": "Python 3",
   "language": "python",
   "name": "python3"
  },
  "language_info": {
   "codemirror_mode": {
    "name": "ipython",
    "version": 3
   },
   "file_extension": ".py",
   "mimetype": "text/x-python",
   "name": "python",
   "nbconvert_exporter": "python",
   "pygments_lexer": "ipython3",
   "version": "3.7.4"
  }
 },
 "nbformat": 4,
 "nbformat_minor": 2
}
